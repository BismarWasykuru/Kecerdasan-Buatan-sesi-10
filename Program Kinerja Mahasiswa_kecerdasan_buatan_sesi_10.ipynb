{
  "nbformat": 4,
  "nbformat_minor": 0,
  "metadata": {
    "colab": {
      "provenance": [],
      "authorship_tag": "ABX9TyNfxBMS0m4DmFWs9Tk+IKrV",
      "include_colab_link": true
    },
    "kernelspec": {
      "name": "python3",
      "display_name": "Python 3"
    },
    "language_info": {
      "name": "python"
    }
  },
  "cells": [
    {
      "cell_type": "markdown",
      "metadata": {
        "id": "view-in-github",
        "colab_type": "text"
      },
      "source": [
        "<a href=\"https://colab.research.google.com/github/BismarWasykuru/Kecerdasan-Buatan-sesi-10/blob/main/Program%20Kinerja%20Mahasiswa_kecerdasan_buatan_sesi_10.ipynb\" target=\"_parent\"><img src=\"https://colab.research.google.com/assets/colab-badge.svg\" alt=\"Open In Colab\"/></a>"
      ]
    },
    {
      "cell_type": "code",
      "execution_count": null,
      "metadata": {
        "colab": {
          "base_uri": "https://localhost:8080/"
        },
        "id": "mOwPG8WWu2ic",
        "outputId": "c09739eb-f9ab-40ef-f3e5-280828e0f032"
      },
      "outputs": [
        {
          "output_type": "stream",
          "name": "stdout",
          "text": [
            "Jam belajar mahasiswa (rendah/sedang/tinggi): sedang\n",
            "Kehadiran mahasiswa (kurang/baik): baik\n",
            "Partisipasi mahasiswa (aktif/tidak aktif): aktif\n",
            "Prediksi kinerja: baik\n",
            "Nilai prediksi: {'baik': 0.09000000000000002, 'buruk': 0.016}\n"
          ]
        }
      ],
      "source": [
        "# Data kinerja mahasiswa\n",
        "data = [\n",
        "    {'jam_belajar': 'rendah', 'kehadiran': 'kurang', 'partisipasi': 'tidak aktif', 'kinerja': 'buruk'},\n",
        "    {'jam_belajar': 'sedang', 'kehadiran': 'baik', 'partisipasi': 'aktif', 'kinerja': 'baik'},\n",
        "    {'jam_belajar': 'tinggi', 'kehadiran': 'baik', 'partisipasi': 'aktif', 'kinerja': 'baik'},\n",
        "    {'jam_belajar': 'rendah', 'kehadiran': 'kurang', 'partisipasi': 'tidak aktif', 'kinerja': 'buruk'},\n",
        "    {'jam_belajar': 'sedang', 'kehadiran': 'kurang', 'partisipasi': 'aktif', 'kinerja': 'buruk'}\n",
        "]\n",
        "\n",
        "# Menghitung prior probabilitas\n",
        "prior_baik = len([baris for baris in data if baris['kinerja'] == 'baik']) / len(data)\n",
        "prior_buruk = len([baris for baris in data if baris['kinerja'] == 'buruk']) / len(data)\n",
        "\n",
        "# Fungsi untuk menghitung probabilitas likelihood dengan smoothing\n",
        "def hitung_probabilitas_likelihood(data, kelas, atribut, nilai, smoothing=1):\n",
        "    jumlah_kelas = len([baris for baris in data if baris['kinerja'] == kelas])\n",
        "    jumlah_atribut_kelas = len([baris for baris in data if baris[atribut] == nilai and baris['kinerja'] == kelas])\n",
        "    jumlah_total_atribut = len(set(baris[atribut] for baris in data))  # Jumlah kategori unik untuk atribut\n",
        "    return (jumlah_atribut_kelas + smoothing) / (jumlah_kelas + smoothing * jumlah_total_atribut)\n",
        "\n",
        "# Fungsi untuk menghitung probabilitas untuk setiap kelas\n",
        "def hitung_probabilitas_kelas(data, data_input):\n",
        "    probabilitas_baik = prior_baik\n",
        "    probabilitas_buruk = prior_buruk\n",
        "    for atribut, nilai in data_input.items():\n",
        "        probabilitas_baik *= hitung_probabilitas_likelihood(data, 'baik', atribut, nilai)\n",
        "        probabilitas_buruk *= hitung_probabilitas_likelihood(data, 'buruk', atribut, nilai)\n",
        "    return {'baik': probabilitas_baik, 'buruk': probabilitas_buruk}\n",
        "\n",
        "# Fungsi untuk memprediksi kinerja mahasiswa\n",
        "def prediksi(data, data_input):\n",
        "    probabilitas = hitung_probabilitas_kelas(data, data_input)\n",
        "    if probabilitas['baik'] > probabilitas['buruk']:\n",
        "        return 'baik'\n",
        "    else:\n",
        "        return 'buruk'\n",
        "\n",
        "# Input data baru\n",
        "data_baru = {}\n",
        "data_baru['jam_belajar'] = input(\"Jam belajar mahasiswa (rendah/sedang/tinggi): \")\n",
        "data_baru['kehadiran'] = input(\"Kehadiran mahasiswa (kurang/baik): \")\n",
        "data_baru['partisipasi'] = input(\"Partisipasi mahasiswa (aktif/tidak aktif): \")\n",
        "\n",
        "# Prediksi\n",
        "hasil_prediksi = prediksi(data, data_baru)\n",
        "nilai_prediksi = hitung_probabilitas_kelas(data, data_baru)\n",
        "\n",
        "print(f\"Prediksi kinerja: {hasil_prediksi}\")\n",
        "print(f\"Nilai prediksi: {nilai_prediksi}\")\n"
      ]
    }
  ]
}